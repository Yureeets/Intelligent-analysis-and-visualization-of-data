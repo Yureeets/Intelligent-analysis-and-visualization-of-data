{
  "nbformat": 4,
  "nbformat_minor": 0,
  "metadata": {
    "colab": {
      "provenance": [],
      "toc_visible": true,
      "authorship_tag": "ABX9TyP3SlgAgsba5lm39p1HvC9g",
      "include_colab_link": true
    },
    "kernelspec": {
      "name": "python3",
      "display_name": "Python 3"
    },
    "language_info": {
      "name": "python"
    }
  },
  "cells": [
    {
      "cell_type": "markdown",
      "metadata": {
        "id": "view-in-github",
        "colab_type": "text"
      },
      "source": [
        "<a href=\"https://colab.research.google.com/github/Yureeets/Intelligent-analysis-and-visualization-of-data/blob/main/lab2.ipynb\" target=\"_parent\"><img src=\"https://colab.research.google.com/assets/colab-badge.svg\" alt=\"Open In Colab\"/></a>"
      ]
    },
    {
      "cell_type": "markdown",
      "source": [
        "\n",
        "\n",
        "Тема: перевірка гіпотез\n",
        "\n",
        "## **Завдання**\n",
        "\n",
        "1. Оберіть дані для аналізу\n",
        "2. Задати та перевірити гіпотезу для змінної даних.\n",
        "3. Задати та перевірити гіпотези в залежності від значень параметру.\n",
        "4. Зробити висновки щодо своїх даних за допомогою тестування гіпотез.\n",
        "5. Оформити звіт.\n"
      ],
      "metadata": {
        "id": "9ugJXcY_oUag"
      }
    },
    {
      "cell_type": "markdown",
      "source": [
        "# **1. Оберіть дані для аналізу**\n",
        "\n",
        "Отже для даної **лабораторної роботи** я обрав датасет, що містить в собі **інформацію про врожайності сільськогосподарських культур** в світі. Цей набір даних складається з **28242 записів** у семи колонках. Датасет складається з таких колонок як:\n",
        "* Area (Країна)\n",
        "* Item (Список типів продукції)\n",
        "* Year (Рік)\n",
        "* hg/ha_yiel (врожайність сільськогосподарських культур у гектограмах на гектар)\n",
        "* average_rain_fall_mm_per_year (середньорічна кількість опадів у міліметрах)\n",
        "* pesticides_tonnes (кількість використаних пестицидів, виміряна в тоннах)\n",
        "* avg_temp (середня температура в градусах Цельсія)\n",
        "\n"
      ],
      "metadata": {
        "id": "d6sEdzG4p6Aa"
      }
    },
    {
      "cell_type": "markdown",
      "source": [
        "## **Імпортуємо Бібліотеки**"
      ],
      "metadata": {
        "id": "DNjQINWMqNVd"
      }
    },
    {
      "cell_type": "code",
      "source": [
        "import numpy as np\n",
        "import pandas as pd\n",
        "import seaborn as sns\n",
        "import matplotlib.pyplot as plt\n",
        "\n",
        "import math\n",
        "import scipy"
      ],
      "metadata": {
        "id": "GUfZxl4lqY4Q"
      },
      "execution_count": null,
      "outputs": []
    },
    {
      "cell_type": "markdown",
      "source": [
        "## **Імпортуємо Дані**"
      ],
      "metadata": {
        "id": "2hX8L4cCqUaw"
      }
    },
    {
      "cell_type": "code",
      "execution_count": null,
      "metadata": {
        "colab": {
          "base_uri": "https://localhost:8080/"
        },
        "id": "__QrtcO8oSZd",
        "outputId": "a4eb4d60-1094-4a6f-9327-e93b58f6038d"
      },
      "outputs": [
        {
          "output_type": "stream",
          "name": "stdout",
          "text": [
            "--2024-09-24 17:30:35--  https://drive.google.com/uc?export=download&id=1eUsG37AlzIk9PkGM1t-3SIIBpB9S3QcX\n",
            "Resolving drive.google.com (drive.google.com)... 142.251.16.102, 142.251.16.100, 142.251.16.101, ...\n",
            "Connecting to drive.google.com (drive.google.com)|142.251.16.102|:443... connected.\n",
            "HTTP request sent, awaiting response... 303 See Other\n",
            "Location: https://drive.usercontent.google.com/download?id=1eUsG37AlzIk9PkGM1t-3SIIBpB9S3QcX&export=download [following]\n",
            "--2024-09-24 17:30:35--  https://drive.usercontent.google.com/download?id=1eUsG37AlzIk9PkGM1t-3SIIBpB9S3QcX&export=download\n",
            "Resolving drive.usercontent.google.com (drive.usercontent.google.com)... 64.233.180.132, 2607:f8b0:4004:c21::84\n",
            "Connecting to drive.usercontent.google.com (drive.usercontent.google.com)|64.233.180.132|:443... connected.\n",
            "HTTP request sent, awaiting response... 200 OK\n",
            "Length: 222032 (217K) [application/octet-stream]\n",
            "Saving to: ‘filename.zip’\n",
            "\n",
            "filename.zip        100%[===================>] 216.83K  --.-KB/s    in 0.04s   \n",
            "\n",
            "2024-09-24 17:30:38 (5.54 MB/s) - ‘filename.zip’ saved [222032/222032]\n",
            "\n"
          ]
        }
      ],
      "source": [
        "# Завантажуємо з диску\n",
        "!wget \"https://drive.google.com/uc?export=download&id=1eUsG37AlzIk9PkGM1t-3SIIBpB9S3QcX\" -O filename.zip"
      ]
    },
    {
      "cell_type": "code",
      "source": [
        "!unzip -q /content/filename.zip"
      ],
      "metadata": {
        "id": "OPeTgy6MqAD4"
      },
      "execution_count": null,
      "outputs": []
    },
    {
      "cell_type": "code",
      "source": [
        "# Імпортуємо Датасет\n",
        "df = pd.read_csv('/content/yield_df.csv', index_col = 'Unnamed: 0')\n",
        "df.head(8)"
      ],
      "metadata": {
        "colab": {
          "base_uri": "https://localhost:8080/",
          "height": 300
        },
        "id": "AMacwSL4qBy7",
        "outputId": "20290e7b-d8f0-40c1-fcb4-1aacbfbdfc73"
      },
      "execution_count": null,
      "outputs": [
        {
          "output_type": "execute_result",
          "data": {
            "text/plain": [
              "      Area         Item  Year  hg/ha_yield  average_rain_fall_mm_per_year  \\\n",
              "0  Albania        Maize  1990        36613                         1485.0   \n",
              "1  Albania     Potatoes  1990        66667                         1485.0   \n",
              "2  Albania  Rice, paddy  1990        23333                         1485.0   \n",
              "3  Albania      Sorghum  1990        12500                         1485.0   \n",
              "4  Albania     Soybeans  1990         7000                         1485.0   \n",
              "5  Albania        Wheat  1990        30197                         1485.0   \n",
              "6  Albania        Maize  1991        29068                         1485.0   \n",
              "7  Albania     Potatoes  1991        77818                         1485.0   \n",
              "\n",
              "   pesticides_tonnes  avg_temp  \n",
              "0              121.0     16.37  \n",
              "1              121.0     16.37  \n",
              "2              121.0     16.37  \n",
              "3              121.0     16.37  \n",
              "4              121.0     16.37  \n",
              "5              121.0     16.37  \n",
              "6              121.0     15.36  \n",
              "7              121.0     15.36  "
            ],
            "text/html": [
              "\n",
              "  <div id=\"df-c1b31a9d-1485-494c-99a5-96ea91d85d58\" class=\"colab-df-container\">\n",
              "    <div>\n",
              "<style scoped>\n",
              "    .dataframe tbody tr th:only-of-type {\n",
              "        vertical-align: middle;\n",
              "    }\n",
              "\n",
              "    .dataframe tbody tr th {\n",
              "        vertical-align: top;\n",
              "    }\n",
              "\n",
              "    .dataframe thead th {\n",
              "        text-align: right;\n",
              "    }\n",
              "</style>\n",
              "<table border=\"1\" class=\"dataframe\">\n",
              "  <thead>\n",
              "    <tr style=\"text-align: right;\">\n",
              "      <th></th>\n",
              "      <th>Area</th>\n",
              "      <th>Item</th>\n",
              "      <th>Year</th>\n",
              "      <th>hg/ha_yield</th>\n",
              "      <th>average_rain_fall_mm_per_year</th>\n",
              "      <th>pesticides_tonnes</th>\n",
              "      <th>avg_temp</th>\n",
              "    </tr>\n",
              "  </thead>\n",
              "  <tbody>\n",
              "    <tr>\n",
              "      <th>0</th>\n",
              "      <td>Albania</td>\n",
              "      <td>Maize</td>\n",
              "      <td>1990</td>\n",
              "      <td>36613</td>\n",
              "      <td>1485.0</td>\n",
              "      <td>121.0</td>\n",
              "      <td>16.37</td>\n",
              "    </tr>\n",
              "    <tr>\n",
              "      <th>1</th>\n",
              "      <td>Albania</td>\n",
              "      <td>Potatoes</td>\n",
              "      <td>1990</td>\n",
              "      <td>66667</td>\n",
              "      <td>1485.0</td>\n",
              "      <td>121.0</td>\n",
              "      <td>16.37</td>\n",
              "    </tr>\n",
              "    <tr>\n",
              "      <th>2</th>\n",
              "      <td>Albania</td>\n",
              "      <td>Rice, paddy</td>\n",
              "      <td>1990</td>\n",
              "      <td>23333</td>\n",
              "      <td>1485.0</td>\n",
              "      <td>121.0</td>\n",
              "      <td>16.37</td>\n",
              "    </tr>\n",
              "    <tr>\n",
              "      <th>3</th>\n",
              "      <td>Albania</td>\n",
              "      <td>Sorghum</td>\n",
              "      <td>1990</td>\n",
              "      <td>12500</td>\n",
              "      <td>1485.0</td>\n",
              "      <td>121.0</td>\n",
              "      <td>16.37</td>\n",
              "    </tr>\n",
              "    <tr>\n",
              "      <th>4</th>\n",
              "      <td>Albania</td>\n",
              "      <td>Soybeans</td>\n",
              "      <td>1990</td>\n",
              "      <td>7000</td>\n",
              "      <td>1485.0</td>\n",
              "      <td>121.0</td>\n",
              "      <td>16.37</td>\n",
              "    </tr>\n",
              "    <tr>\n",
              "      <th>5</th>\n",
              "      <td>Albania</td>\n",
              "      <td>Wheat</td>\n",
              "      <td>1990</td>\n",
              "      <td>30197</td>\n",
              "      <td>1485.0</td>\n",
              "      <td>121.0</td>\n",
              "      <td>16.37</td>\n",
              "    </tr>\n",
              "    <tr>\n",
              "      <th>6</th>\n",
              "      <td>Albania</td>\n",
              "      <td>Maize</td>\n",
              "      <td>1991</td>\n",
              "      <td>29068</td>\n",
              "      <td>1485.0</td>\n",
              "      <td>121.0</td>\n",
              "      <td>15.36</td>\n",
              "    </tr>\n",
              "    <tr>\n",
              "      <th>7</th>\n",
              "      <td>Albania</td>\n",
              "      <td>Potatoes</td>\n",
              "      <td>1991</td>\n",
              "      <td>77818</td>\n",
              "      <td>1485.0</td>\n",
              "      <td>121.0</td>\n",
              "      <td>15.36</td>\n",
              "    </tr>\n",
              "  </tbody>\n",
              "</table>\n",
              "</div>\n",
              "    <div class=\"colab-df-buttons\">\n",
              "\n",
              "  <div class=\"colab-df-container\">\n",
              "    <button class=\"colab-df-convert\" onclick=\"convertToInteractive('df-c1b31a9d-1485-494c-99a5-96ea91d85d58')\"\n",
              "            title=\"Convert this dataframe to an interactive table.\"\n",
              "            style=\"display:none;\">\n",
              "\n",
              "  <svg xmlns=\"http://www.w3.org/2000/svg\" height=\"24px\" viewBox=\"0 -960 960 960\">\n",
              "    <path d=\"M120-120v-720h720v720H120Zm60-500h600v-160H180v160Zm220 220h160v-160H400v160Zm0 220h160v-160H400v160ZM180-400h160v-160H180v160Zm440 0h160v-160H620v160ZM180-180h160v-160H180v160Zm440 0h160v-160H620v160Z\"/>\n",
              "  </svg>\n",
              "    </button>\n",
              "\n",
              "  <style>\n",
              "    .colab-df-container {\n",
              "      display:flex;\n",
              "      gap: 12px;\n",
              "    }\n",
              "\n",
              "    .colab-df-convert {\n",
              "      background-color: #E8F0FE;\n",
              "      border: none;\n",
              "      border-radius: 50%;\n",
              "      cursor: pointer;\n",
              "      display: none;\n",
              "      fill: #1967D2;\n",
              "      height: 32px;\n",
              "      padding: 0 0 0 0;\n",
              "      width: 32px;\n",
              "    }\n",
              "\n",
              "    .colab-df-convert:hover {\n",
              "      background-color: #E2EBFA;\n",
              "      box-shadow: 0px 1px 2px rgba(60, 64, 67, 0.3), 0px 1px 3px 1px rgba(60, 64, 67, 0.15);\n",
              "      fill: #174EA6;\n",
              "    }\n",
              "\n",
              "    .colab-df-buttons div {\n",
              "      margin-bottom: 4px;\n",
              "    }\n",
              "\n",
              "    [theme=dark] .colab-df-convert {\n",
              "      background-color: #3B4455;\n",
              "      fill: #D2E3FC;\n",
              "    }\n",
              "\n",
              "    [theme=dark] .colab-df-convert:hover {\n",
              "      background-color: #434B5C;\n",
              "      box-shadow: 0px 1px 3px 1px rgba(0, 0, 0, 0.15);\n",
              "      filter: drop-shadow(0px 1px 2px rgba(0, 0, 0, 0.3));\n",
              "      fill: #FFFFFF;\n",
              "    }\n",
              "  </style>\n",
              "\n",
              "    <script>\n",
              "      const buttonEl =\n",
              "        document.querySelector('#df-c1b31a9d-1485-494c-99a5-96ea91d85d58 button.colab-df-convert');\n",
              "      buttonEl.style.display =\n",
              "        google.colab.kernel.accessAllowed ? 'block' : 'none';\n",
              "\n",
              "      async function convertToInteractive(key) {\n",
              "        const element = document.querySelector('#df-c1b31a9d-1485-494c-99a5-96ea91d85d58');\n",
              "        const dataTable =\n",
              "          await google.colab.kernel.invokeFunction('convertToInteractive',\n",
              "                                                    [key], {});\n",
              "        if (!dataTable) return;\n",
              "\n",
              "        const docLinkHtml = 'Like what you see? Visit the ' +\n",
              "          '<a target=\"_blank\" href=https://colab.research.google.com/notebooks/data_table.ipynb>data table notebook</a>'\n",
              "          + ' to learn more about interactive tables.';\n",
              "        element.innerHTML = '';\n",
              "        dataTable['output_type'] = 'display_data';\n",
              "        await google.colab.output.renderOutput(dataTable, element);\n",
              "        const docLink = document.createElement('div');\n",
              "        docLink.innerHTML = docLinkHtml;\n",
              "        element.appendChild(docLink);\n",
              "      }\n",
              "    </script>\n",
              "  </div>\n",
              "\n",
              "\n",
              "<div id=\"df-a5e1ca4f-a626-496a-b4d1-f4ce50f169d2\">\n",
              "  <button class=\"colab-df-quickchart\" onclick=\"quickchart('df-a5e1ca4f-a626-496a-b4d1-f4ce50f169d2')\"\n",
              "            title=\"Suggest charts\"\n",
              "            style=\"display:none;\">\n",
              "\n",
              "<svg xmlns=\"http://www.w3.org/2000/svg\" height=\"24px\"viewBox=\"0 0 24 24\"\n",
              "     width=\"24px\">\n",
              "    <g>\n",
              "        <path d=\"M19 3H5c-1.1 0-2 .9-2 2v14c0 1.1.9 2 2 2h14c1.1 0 2-.9 2-2V5c0-1.1-.9-2-2-2zM9 17H7v-7h2v7zm4 0h-2V7h2v10zm4 0h-2v-4h2v4z\"/>\n",
              "    </g>\n",
              "</svg>\n",
              "  </button>\n",
              "\n",
              "<style>\n",
              "  .colab-df-quickchart {\n",
              "      --bg-color: #E8F0FE;\n",
              "      --fill-color: #1967D2;\n",
              "      --hover-bg-color: #E2EBFA;\n",
              "      --hover-fill-color: #174EA6;\n",
              "      --disabled-fill-color: #AAA;\n",
              "      --disabled-bg-color: #DDD;\n",
              "  }\n",
              "\n",
              "  [theme=dark] .colab-df-quickchart {\n",
              "      --bg-color: #3B4455;\n",
              "      --fill-color: #D2E3FC;\n",
              "      --hover-bg-color: #434B5C;\n",
              "      --hover-fill-color: #FFFFFF;\n",
              "      --disabled-bg-color: #3B4455;\n",
              "      --disabled-fill-color: #666;\n",
              "  }\n",
              "\n",
              "  .colab-df-quickchart {\n",
              "    background-color: var(--bg-color);\n",
              "    border: none;\n",
              "    border-radius: 50%;\n",
              "    cursor: pointer;\n",
              "    display: none;\n",
              "    fill: var(--fill-color);\n",
              "    height: 32px;\n",
              "    padding: 0;\n",
              "    width: 32px;\n",
              "  }\n",
              "\n",
              "  .colab-df-quickchart:hover {\n",
              "    background-color: var(--hover-bg-color);\n",
              "    box-shadow: 0 1px 2px rgba(60, 64, 67, 0.3), 0 1px 3px 1px rgba(60, 64, 67, 0.15);\n",
              "    fill: var(--button-hover-fill-color);\n",
              "  }\n",
              "\n",
              "  .colab-df-quickchart-complete:disabled,\n",
              "  .colab-df-quickchart-complete:disabled:hover {\n",
              "    background-color: var(--disabled-bg-color);\n",
              "    fill: var(--disabled-fill-color);\n",
              "    box-shadow: none;\n",
              "  }\n",
              "\n",
              "  .colab-df-spinner {\n",
              "    border: 2px solid var(--fill-color);\n",
              "    border-color: transparent;\n",
              "    border-bottom-color: var(--fill-color);\n",
              "    animation:\n",
              "      spin 1s steps(1) infinite;\n",
              "  }\n",
              "\n",
              "  @keyframes spin {\n",
              "    0% {\n",
              "      border-color: transparent;\n",
              "      border-bottom-color: var(--fill-color);\n",
              "      border-left-color: var(--fill-color);\n",
              "    }\n",
              "    20% {\n",
              "      border-color: transparent;\n",
              "      border-left-color: var(--fill-color);\n",
              "      border-top-color: var(--fill-color);\n",
              "    }\n",
              "    30% {\n",
              "      border-color: transparent;\n",
              "      border-left-color: var(--fill-color);\n",
              "      border-top-color: var(--fill-color);\n",
              "      border-right-color: var(--fill-color);\n",
              "    }\n",
              "    40% {\n",
              "      border-color: transparent;\n",
              "      border-right-color: var(--fill-color);\n",
              "      border-top-color: var(--fill-color);\n",
              "    }\n",
              "    60% {\n",
              "      border-color: transparent;\n",
              "      border-right-color: var(--fill-color);\n",
              "    }\n",
              "    80% {\n",
              "      border-color: transparent;\n",
              "      border-right-color: var(--fill-color);\n",
              "      border-bottom-color: var(--fill-color);\n",
              "    }\n",
              "    90% {\n",
              "      border-color: transparent;\n",
              "      border-bottom-color: var(--fill-color);\n",
              "    }\n",
              "  }\n",
              "</style>\n",
              "\n",
              "  <script>\n",
              "    async function quickchart(key) {\n",
              "      const quickchartButtonEl =\n",
              "        document.querySelector('#' + key + ' button');\n",
              "      quickchartButtonEl.disabled = true;  // To prevent multiple clicks.\n",
              "      quickchartButtonEl.classList.add('colab-df-spinner');\n",
              "      try {\n",
              "        const charts = await google.colab.kernel.invokeFunction(\n",
              "            'suggestCharts', [key], {});\n",
              "      } catch (error) {\n",
              "        console.error('Error during call to suggestCharts:', error);\n",
              "      }\n",
              "      quickchartButtonEl.classList.remove('colab-df-spinner');\n",
              "      quickchartButtonEl.classList.add('colab-df-quickchart-complete');\n",
              "    }\n",
              "    (() => {\n",
              "      let quickchartButtonEl =\n",
              "        document.querySelector('#df-a5e1ca4f-a626-496a-b4d1-f4ce50f169d2 button');\n",
              "      quickchartButtonEl.style.display =\n",
              "        google.colab.kernel.accessAllowed ? 'block' : 'none';\n",
              "    })();\n",
              "  </script>\n",
              "</div>\n",
              "    </div>\n",
              "  </div>\n"
            ],
            "application/vnd.google.colaboratory.intrinsic+json": {
              "type": "dataframe",
              "variable_name": "df",
              "summary": "{\n  \"name\": \"df\",\n  \"rows\": 28242,\n  \"fields\": [\n    {\n      \"column\": \"Area\",\n      \"properties\": {\n        \"dtype\": \"category\",\n        \"num_unique_values\": 101,\n        \"samples\": [\n          \"South Africa\",\n          \"Lithuania\",\n          \"Namibia\"\n        ],\n        \"semantic_type\": \"\",\n        \"description\": \"\"\n      }\n    },\n    {\n      \"column\": \"Item\",\n      \"properties\": {\n        \"dtype\": \"category\",\n        \"num_unique_values\": 10,\n        \"samples\": [\n          \"Plantains and others\",\n          \"Potatoes\",\n          \"Wheat\"\n        ],\n        \"semantic_type\": \"\",\n        \"description\": \"\"\n      }\n    },\n    {\n      \"column\": \"Year\",\n      \"properties\": {\n        \"dtype\": \"number\",\n        \"std\": 7,\n        \"min\": 1990,\n        \"max\": 2013,\n        \"num_unique_values\": 23,\n        \"samples\": [\n          2006,\n          1999,\n          1990\n        ],\n        \"semantic_type\": \"\",\n        \"description\": \"\"\n      }\n    },\n    {\n      \"column\": \"hg/ha_yield\",\n      \"properties\": {\n        \"dtype\": \"number\",\n        \"std\": 84956,\n        \"min\": 50,\n        \"max\": 501412,\n        \"num_unique_values\": 11514,\n        \"samples\": [\n          27368,\n          110413,\n          98893\n        ],\n        \"semantic_type\": \"\",\n        \"description\": \"\"\n      }\n    },\n    {\n      \"column\": \"average_rain_fall_mm_per_year\",\n      \"properties\": {\n        \"dtype\": \"number\",\n        \"std\": 709.8121499492202,\n        \"min\": 51.0,\n        \"max\": 3240.0,\n        \"num_unique_values\": 100,\n        \"samples\": [\n          1162.0,\n          788.0,\n          2280.0\n        ],\n        \"semantic_type\": \"\",\n        \"description\": \"\"\n      }\n    },\n    {\n      \"column\": \"pesticides_tonnes\",\n      \"properties\": {\n        \"dtype\": \"number\",\n        \"std\": 59958.78466505808,\n        \"min\": 0.04,\n        \"max\": 367778.0,\n        \"num_unique_values\": 1673,\n        \"samples\": [\n          14156.16,\n          43720.04,\n          10777.08\n        ],\n        \"semantic_type\": \"\",\n        \"description\": \"\"\n      }\n    },\n    {\n      \"column\": \"avg_temp\",\n      \"properties\": {\n        \"dtype\": \"number\",\n        \"std\": 6.312050836049793,\n        \"min\": 1.3,\n        \"max\": 30.65,\n        \"num_unique_values\": 1831,\n        \"samples\": [\n          8.76,\n          15.98,\n          13.97\n        ],\n        \"semantic_type\": \"\",\n        \"description\": \"\"\n      }\n    }\n  ]\n}"
            }
          },
          "metadata": {},
          "execution_count": 5
        }
      ]
    },
    {
      "cell_type": "markdown",
      "source": [
        "# **2. Задати та перевірити гіпотезу для змінної даних.**"
      ],
      "metadata": {
        "id": "B9DtxB0iOlsw"
      }
    },
    {
      "cell_type": "markdown",
      "source": [
        "Отже, ми маємо дані про врожайність сільськогосподарських культур в світі. Тому припустимо, що **середня врожайність пшениці для світу є 30000**. Альтернативна гіпотеза — **середня врожайність не рівна 30000**.  \n",
        "Для тестування цієї гіпотези використаємо значення t-статистики, що обраховується як:\n",
        "$$\n",
        "\\\n",
        "t = \\frac{\\bar{X} - \\mu_0}{\\frac{s}{\\sqrt{n}}}\n",
        "\\\n",
        "$$\n",
        "\n",
        "Де $ \\bar{X} $ — це середнє значення вибірки, $ \\mu_0 $ — це значення нульової гіпотези, \\(s\\) — середньоквадратичне відхилення, а $ n $ — це розмір вибірки.\n"
      ],
      "metadata": {
        "id": "m_AVXY9aqrtt"
      }
    },
    {
      "cell_type": "code",
      "source": [
        "hyp = 30000"
      ],
      "metadata": {
        "id": "erNITwxSqCaD"
      },
      "execution_count": null,
      "outputs": []
    },
    {
      "cell_type": "markdown",
      "source": [
        "Напишемо вручну обрахунки t-статистики:"
      ],
      "metadata": {
        "id": "JSQgKJ61w-9V"
      }
    },
    {
      "cell_type": "code",
      "source": [
        "x = df[(df['Item'] == 'Wheat')]['hg/ha_yield']\n",
        "\n",
        "mean = x.mean()\n",
        "n = len(x)\n",
        "std = x.std()\n",
        "t = (mean - hyp) / (std / math.sqrt(n))\n",
        "\n",
        "print('t-statistic:', t)"
      ],
      "metadata": {
        "colab": {
          "base_uri": "https://localhost:8080/"
        },
        "id": "yw2cQigCsnO0",
        "outputId": "e0174098-5539-4a4c-d5e7-d9983b7ac129"
      },
      "execution_count": null,
      "outputs": [
        {
          "output_type": "stream",
          "name": "stdout",
          "text": [
            "t-statistic: 0.39269262647079634\n"
          ]
        }
      ]
    },
    {
      "cell_type": "code",
      "source": [
        "x"
      ],
      "metadata": {
        "id": "7AedsPhVmw21"
      },
      "execution_count": null,
      "outputs": []
    },
    {
      "cell_type": "markdown",
      "source": [
        "Та порахуємо P-значення:"
      ],
      "metadata": {
        "id": "jN4ZRleDMUno"
      }
    },
    {
      "cell_type": "code",
      "source": [],
      "metadata": {
        "id": "Ae6yFWEcmwif"
      },
      "execution_count": null,
      "outputs": []
    },
    {
      "cell_type": "code",
      "source": [
        "scipy.stats.t.sf(abs(t),df=len(x)-1) * 2"
      ],
      "metadata": {
        "colab": {
          "base_uri": "https://localhost:8080/"
        },
        "id": "gq-tO3YlMZZk",
        "outputId": "78417575-291d-4f73-a60a-0cf0713682d8"
      },
      "execution_count": null,
      "outputs": [
        {
          "output_type": "execute_result",
          "data": {
            "text/plain": [
              "0.6945682232162192"
            ]
          },
          "metadata": {},
          "execution_count": 8
        }
      ]
    },
    {
      "cell_type": "markdown",
      "source": [
        "Перевіримо вбудованою функцією:"
      ],
      "metadata": {
        "id": "_2XsRhTZxP1z"
      }
    },
    {
      "cell_type": "code",
      "source": [
        "# обчислення t-статистики та p-value\n",
        "scipy.stats.ttest_1samp(x, popmean = hyp)"
      ],
      "metadata": {
        "colab": {
          "base_uri": "https://localhost:8080/"
        },
        "id": "gyFvVSMiuNBV",
        "outputId": "e93c1b80-6943-41fc-f6d1-029f67a5a690"
      },
      "execution_count": null,
      "outputs": [
        {
          "output_type": "execute_result",
          "data": {
            "text/plain": [
              "TtestResult(statistic=0.39269262647079634, pvalue=0.6945682232162192, df=3856)"
            ]
          },
          "metadata": {},
          "execution_count": 9
        }
      ]
    },
    {
      "cell_type": "markdown",
      "source": [
        "Отже, p-value=0.694 > 0.05 з чого ми можемо зробити висновок, що ми не можемо\n",
        "відкинути нульову гіпотезу. Тобто 30000 є середньою врожайністю пшениці для світу.\n",
        "Додатково перевіримо це на графіку:"
      ],
      "metadata": {
        "id": "F0z207iIxzhx"
      }
    },
    {
      "cell_type": "code",
      "source": [
        "plt.figure(figsize = (15,7))\n",
        "sns.histplot(x)\n",
        "plt.show()"
      ],
      "metadata": {
        "colab": {
          "base_uri": "https://localhost:8080/",
          "height": 619
        },
        "id": "1Ian_oRiR895",
        "outputId": "58efe7e5-08ee-4e2a-bef8-e03e0c3a3890"
      },
      "execution_count": null,
      "outputs": [
        {
          "output_type": "display_data",
          "data": {
            "text/plain": [
              "<Figure size 1500x700 with 1 Axes>"
            ],
            "image/png": "[encoded data removed]"
          },
          "metadata": {}
        }
      ]
    },
    {
      "cell_type": "markdown",
      "source": [
        "# **3. Задати та перевірити гіпотези в залежності від значень параметру.**\n",
        "Для цього завдання ми перевіримо, чи є статистично значуща різниця між середньою врожайністю при низькій та високій температурі.\n",
        "\n",
        "Нульова гіпотеза (H0): Середня температура не впливає на врожайність.\n",
        "\n",
        "Альтернативна гіпотеза (H1): Температура впливає на врожайність.\n",
        "\n",
        "Для цього розділимо колонку врожайності по середині випадів:"
      ],
      "metadata": {
        "id": "vrrFrEC3Ort6"
      }
    },
    {
      "cell_type": "code",
      "source": [
        "median_temp = df['avg_temp'].median()\n",
        "\n",
        "group1 = df[df['avg_temp'] <= median_temp]['hg/ha_yield']\n",
        "\n",
        "group2 = df[df['avg_temp'] > median_temp]['hg/ha_yield']\n",
        "\n",
        "t_stat, p_value = scipy.stats.ttest_ind(group1, group2)\n",
        "\n",
        "print(f\"t-статистика: {t_stat:.2f}\")\n",
        "print(f\"p-значення: {p_value:.2f}\")\n",
        "alpha = 0.05\n",
        "if p_value < alpha:\n",
        "    print(\"Є статистично значуща різниця у врожайності між двома групами (відхиляємо нульову гіпотезу).\")\n",
        "else:\n",
        "    print(\"Немає статистично значущої різниці у врожайності між двома групами (не відхиляємо нульову гіпотезу).\")"
      ],
      "metadata": {
        "colab": {
          "base_uri": "https://localhost:8080/"
        },
        "id": "Qd1nxljyuQ1I",
        "outputId": "57c655a9-f331-4a00-878e-7bfd098be5a5"
      },
      "execution_count": null,
      "outputs": [
        {
          "output_type": "stream",
          "name": "stdout",
          "text": [
            "t-статистика: 15.12\n",
            "p-значення: 0.00\n",
            "Є статистично значуща різниця у врожайності між двома групами (відхиляємо нульову гіпотезу).\n"
          ]
        }
      ]
    },
    {
      "cell_type": "markdown",
      "source": [
        "Отже, оскільки наше P-значення менше за 0.05 ми відхиляємо нульову гіпотезу, тобто робмо висновок, що температура впливає на врожайність. Перевіримо це на графіках:"
      ],
      "metadata": {
        "id": "FjWtZB_HQlhg"
      }
    },
    {
      "cell_type": "code",
      "source": [
        "plt.figure(figsize = (15,5))\n",
        "plt.subplot(1,2,1)\n",
        "plt.title('Розподіл Врожайності Групи з більшою середньою температурою')\n",
        "sns.histplot(group1)\n",
        "\n",
        "plt.subplot(1,2,2)\n",
        "sns.histplot(group2)\n",
        "plt.title('Розподіл Врожайності Групи з меншою середньою температурою')\n",
        "\n",
        "plt.show()"
      ],
      "metadata": {
        "colab": {
          "base_uri": "https://localhost:8080/",
          "height": 487
        },
        "id": "tTZgxsfUQXSi",
        "outputId": "f40ccb74-48b1-43e2-f6b6-25582efc4a6f"
      },
      "execution_count": null,
      "outputs": [
        {
          "output_type": "display_data",
          "data": {
            "text/plain": [
              "<Figure size 1500x500 with 2 Axes>"
            ],
            "image/png": "[encoded data removed]"
          },
          "metadata": {}
        }
      ]
    },
    {
      "cell_type": "markdown",
      "source": [
        "Як бачимо з гістограм, що врожайність з більшими опадами значно більша."
      ],
      "metadata": {
        "id": "FOcfQymxRk8A"
      }
    },
    {
      "cell_type": "markdown",
      "source": [
        "**Перевіримо ще одну гіпотезу з параметром:**"
      ],
      "metadata": {
        "id": "NmwOMpz6G-fG"
      }
    },
    {
      "cell_type": "markdown",
      "source": [
        "Перевіримо ще одну гіпотезу, порівняємо середні значення врожайності картоплі в Україні та Польщі.\n",
        "\n",
        "Нульова гіпотеза (H0): Середні врожайності картоплі в Україні та Польщі однакові.\n",
        "\n",
        "Альтернативна гіпотеза (H1): Середні врожайності картоплі в Україні та Польщі відрізняються."
      ],
      "metadata": {
        "id": "Vy8vqg6mSXb7"
      }
    },
    {
      "cell_type": "code",
      "source": [
        "values_poland = df[(df['Area'] == 'Poland') & (df['Item'] == 'Potatoes')]['hg/ha_yield']\n",
        "values_ukraine = df[(df['Area'] == 'Ukraine') & (df['Item'] == 'Potatoes')]['hg/ha_yield']\n",
        "\n",
        "t_stat, p_value = scipy.stats.ttest_ind(values_ukraine, values_poland)\n",
        "\n",
        "print(f\"t-статистика: {t_stat:.2f}\")\n",
        "print(f\"p-значення: {p_value:.2f}\")\n",
        "\n",
        "alpha = 0.05\n",
        "if p_value < alpha:\n",
        "    print(\"Є статистично значуща різниця у врожайності картоплі між Україною та Польщею (відхиляємо нульову гіпотезу).\")\n",
        "else:\n",
        "    print(\"Немає статистично значущої різниці у врожайності картоплі між Україною та Польщею (не відхиляємо нульову гіпотезу).\")"
      ],
      "metadata": {
        "colab": {
          "base_uri": "https://localhost:8080/"
        },
        "id": "9XLJ03U8RHzh",
        "outputId": "a77a2c5c-23c1-4494-e89b-8af5803aaed2"
      },
      "execution_count": null,
      "outputs": [
        {
          "output_type": "stream",
          "name": "stdout",
          "text": [
            "t-статистика: -7.86\n",
            "p-значення: 0.00\n",
            "Є статистично значуща різниця у врожайності картоплі між Україною та Польщею (відхиляємо нульову гіпотезу).\n"
          ]
        }
      ]
    },
    {
      "cell_type": "markdown",
      "source": [
        "Оскільки 0.0 < 0.5, тому ми відкидаємо нульову гіпотезу, та можемо стверджувати, що середня врожайніть картоплі в Україні та Польщі значно відрізняються.\n",
        "\n",
        "Перевіримо це на графіках:"
      ],
      "metadata": {
        "id": "FibPX71KT6j3"
      }
    },
    {
      "cell_type": "code",
      "source": [
        "plt.figure(figsize = (15,5))\n",
        "\n",
        "plt.subplot(1,2,1)\n",
        "plt.title('Розподіл врожайності картоплі в Україні',fontsize = 14)\n",
        "sns.histplot(values_ukraine)\n",
        "\n",
        "plt.subplot(1,2,2)\n",
        "plt.title('Розподіл врожайності картоплі в Польщі',fontsize = 14)\n",
        "sns.histplot(values_poland)\n",
        "\n",
        "plt.show()"
      ],
      "metadata": {
        "colab": {
          "base_uri": "https://localhost:8080/",
          "height": 488
        },
        "id": "aiHLcowjSjn5",
        "outputId": "2e2ad92a-471a-4394-bfd3-42e739350c70"
      },
      "execution_count": null,
      "outputs": [
        {
          "output_type": "display_data",
          "data": {
            "text/plain": [
              "<Figure size 1500x500 with 2 Axes>"
            ],
            "image/png": "[encoded data removed]"
          },
          "metadata": {}
        }
      ]
    },
    {
      "cell_type": "markdown",
      "source": [
        "Як бачимо з графіків значення врожайностей в Україні та Польще значно відрізняються, що лише підтверджує нашу гіпотезу."
      ],
      "metadata": {
        "id": "iaLHaDjoU2qg"
      }
    },
    {
      "cell_type": "markdown",
      "source": [
        "# **4. Висновок**"
      ],
      "metadata": {
        "id": "T0y_7nMxSxqS"
      }
    },
    {
      "cell_type": "markdown",
      "source": [
        "У ході виконання даної лабораторної роботи було проаналізовано врожайність сільськогосподарських культур в Україні та Польщі на основі таких показників як t-статистика та P-значення. За допомогою побудованих графіків вдалося виявити суттєву різницю в показниках врожайності між цими країнами, що підтвердило початкову гіпотезу. Аналіз даних показав, що на врожайність значно впливають як кліматичні умови, так і економічні чинники. Отримані результати дозволяють краще зрозуміти відмінності у сільськогосподарському виробництві двох країн і можуть слугувати основою для подальшого дослідження впливу цих факторів на врожайність."
      ],
      "metadata": {
        "id": "wmq_iAfRSwgo"
      }
    }
  ]
}